{
 "cells": [
  {
   "cell_type": "raw",
   "id": "e0d25b5d-5442-4f36-808f-9cffc64efbe7",
   "metadata": {},
   "source": [
    "Task_2_Strings_in_jupyter_notebook"
   ]
  },
  {
   "cell_type": "markdown",
   "id": "0769d3c0-7c7a-4510-a695-546cdd7f6ee5",
   "metadata": {},
   "source": [
    "1. ### capitalize () method "
   ]
  },
  {
   "cell_type": "code",
   "execution_count": 9,
   "id": "1f42d865-8d47-47a4-81c1-cca799f0366a",
   "metadata": {},
   "outputs": [
    {
     "name": "stdout",
     "output_type": "stream",
     "text": [
      "My name is vaishnavi.\n"
     ]
    }
   ],
   "source": [
    "str = \"my name is vaishnavi.\"\n",
    "print(str.capitalize())"
   ]
  },
  {
   "cell_type": "markdown",
   "id": "1bf7f7f2-13f4-441a-a006-4d936aa5cdd9",
   "metadata": {},
   "source": [
    "2. ### casefold () method "
   ]
  },
  {
   "cell_type": "code",
   "execution_count": 15,
   "id": "c8d62482-394e-4424-9950-19db7f912f20",
   "metadata": {},
   "outputs": [
    {
     "name": "stdout",
     "output_type": "stream",
     "text": [
      "my name is vaishnavi.\n"
     ]
    }
   ],
   "source": [
    "str = \"MY NAME IS VAISHNAVI.\"\n",
    "print (str.casefold())"
   ]
  },
  {
   "cell_type": "markdown",
   "id": "af4dfa16-cb02-4080-a157-82135ea694d0",
   "metadata": {},
   "source": [
    "3. ### center () method"
   ]
  },
  {
   "cell_type": "code",
   "execution_count": 22,
   "id": "62869f9f-13ed-4b75-828e-f89cb4995fbd",
   "metadata": {},
   "outputs": [
    {
     "name": "stdout",
     "output_type": "stream",
     "text": [
      "***vaishnavi***\n"
     ]
    }
   ],
   "source": [
    "str = \"vaishnavi\"\n",
    "print(str.center(15,\"*\"))"
   ]
  },
  {
   "cell_type": "markdown",
   "id": "5abacb26-6772-4efb-b930-4fa552a03f6d",
   "metadata": {},
   "source": [
    "4. ### count () method"
   ]
  },
  {
   "cell_type": "code",
   "execution_count": 31,
   "id": "22be49c1-e346-44eb-9e85-e7f365a9b660",
   "metadata": {},
   "outputs": [
    {
     "name": "stdout",
     "output_type": "stream",
     "text": [
      "2\n"
     ]
    }
   ],
   "source": [
    "str = \"This is my book. This is also my book.\"\n",
    "print (str.count(\"book\"))\n"
   ]
  },
  {
   "cell_type": "markdown",
   "id": "a4cdeeb8-a216-4a2a-8442-a90c54395019",
   "metadata": {},
   "source": [
    "5. ### find () method "
   ]
  },
  {
   "cell_type": "code",
   "execution_count": 35,
   "id": "629d93d3-38f1-4b8c-bf6d-c26e61b342af",
   "metadata": {},
   "outputs": [
    {
     "name": "stdout",
     "output_type": "stream",
     "text": [
      "14\n"
     ]
    }
   ],
   "source": [
    "str = \"this is first text\"\n",
    "print (str.find (\"text\"))"
   ]
  },
  {
   "cell_type": "markdown",
   "id": "12f75173-b264-45df-a73a-dfbfbf61243b",
   "metadata": {},
   "source": [
    "6. ### endswith () method"
   ]
  },
  {
   "cell_type": "code",
   "execution_count": 40,
   "id": "a1a04872-47bf-416c-bb5a-dfe3b5feb57e",
   "metadata": {},
   "outputs": [
    {
     "name": "stdout",
     "output_type": "stream",
     "text": [
      "True\n"
     ]
    }
   ],
   "source": [
    "str = \"This is demo text. This is demo text2\"\n",
    "print (str.endswith (\"text2\"))"
   ]
  },
  {
   "cell_type": "markdown",
   "id": "686c9db4-7006-477f-8fea-f02b0d91b07c",
   "metadata": {},
   "source": [
    "7. ### expandtabs() method"
   ]
  },
  {
   "cell_type": "code",
   "execution_count": 60,
   "id": "c35e278f-e6f6-4000-afd1-e6026bcea659",
   "metadata": {},
   "outputs": [
    {
     "name": "stdout",
     "output_type": "stream",
     "text": [
      "V\ta\ti\ts\th\tn\ta\tv\ti\t\n",
      "V     a     i     s     h     n     a     v     i     \n"
     ]
    }
   ],
   "source": [
    "str = \"V\\ta\\ti\\ts\\th\\tn\\ta\\tv\\ti\\t\"\n",
    "print (str)\n",
    "print (str.expandtabs (6))"
   ]
  },
  {
   "cell_type": "markdown",
   "id": "6599f3f9-d9cd-4ed8-9b81-3f95be8b0f1d",
   "metadata": {},
   "source": [
    "8. ### index () method"
   ]
  },
  {
   "cell_type": "code",
   "execution_count": 67,
   "id": "4e45508b-9186-4397-b468-6ea97b53e912",
   "metadata": {},
   "outputs": [
    {
     "name": "stdout",
     "output_type": "stream",
     "text": [
      "2\n"
     ]
    }
   ],
   "source": [
    "str = \"This is my book\"\n",
    "print (str.index('i'))"
   ]
  },
  {
   "cell_type": "markdown",
   "id": "6416a84e-7a6b-4be3-b1e6-0c12cdaac60b",
   "metadata": {},
   "source": [
    "9. ### isalnum () method"
   ]
  },
  {
   "cell_type": "code",
   "execution_count": 98,
   "id": "b2cc0d88-41e7-4092-87e5-ebd0949eeb8a",
   "metadata": {},
   "outputs": [
    {
     "name": "stdout",
     "output_type": "stream",
     "text": [
      "True\n"
     ]
    }
   ],
   "source": [
    "str = \"JamesBond007\"\n",
    "print(str.isalnum())"
   ]
  },
  {
   "cell_type": "markdown",
   "id": "f00a8e00-aa25-44e2-b79e-22870b08c417",
   "metadata": {},
   "source": [
    "10. ### isalpha () method"
   ]
  },
  {
   "cell_type": "code",
   "execution_count": 102,
   "id": "529755a8-9088-4216-8fee-45eada678eef",
   "metadata": {},
   "outputs": [
    {
     "name": "stdout",
     "output_type": "stream",
     "text": [
      "True\n"
     ]
    }
   ],
   "source": [
    "str = \"TomCruise\"\n",
    "print(str.isalpha())"
   ]
  },
  {
   "cell_type": "markdown",
   "id": "a22a35fa-09be-424f-92fd-a1a035df3b0e",
   "metadata": {},
   "source": [
    "11. ###  isdecimal() method"
   ]
  },
  {
   "cell_type": "code",
   "execution_count": 105,
   "id": "95ee364c-2062-4213-b3c7-cbe59b022ce6",
   "metadata": {},
   "outputs": [
    {
     "name": "stdout",
     "output_type": "stream",
     "text": [
      "True\n"
     ]
    }
   ],
   "source": [
    "str = \"37\"\n",
    "print(str.isdecimal())"
   ]
  },
  {
   "cell_type": "markdown",
   "id": "37ddf75a-3eff-4bc7-ad69-c834e4db4bbf",
   "metadata": {},
   "source": [
    "12. ### isdigit () method"
   ]
  },
  {
   "cell_type": "code",
   "execution_count": 108,
   "id": "0cea18bb-554a-40d5-95da-32a806b00dce",
   "metadata": {},
   "outputs": [
    {
     "name": "stdout",
     "output_type": "stream",
     "text": [
      "True\n"
     ]
    }
   ],
   "source": [
    "str = \"4566\"\n",
    "print(str.isdigit())"
   ]
  },
  {
   "cell_type": "markdown",
   "id": "b43f3b00-bb18-4523-9e2d-4e224fdcb0c3",
   "metadata": {},
   "source": [
    "13. ### isidentifier() method"
   ]
  },
  {
   "cell_type": "code",
   "execution_count": 111,
   "id": "74449aa6-ae01-4374-aff5-bf113f14ac6b",
   "metadata": {},
   "outputs": [
    {
     "name": "stdout",
     "output_type": "stream",
     "text": [
      "True\n"
     ]
    }
   ],
   "source": [
    "str= \"demo666\"\n",
    "print(str.isidentifier())"
   ]
  },
  {
   "cell_type": "markdown",
   "id": "cd89c9c1-0b77-4800-b165-99a1a3f7921f",
   "metadata": {},
   "source": [
    "14. ### islower() method"
   ]
  },
  {
   "cell_type": "code",
   "execution_count": 114,
   "id": "184dbaea-91f9-4c7d-9dd4-32699e6a8d8c",
   "metadata": {},
   "outputs": [
    {
     "name": "stdout",
     "output_type": "stream",
     "text": [
      "True\n"
     ]
    }
   ],
   "source": [
    "str = \"my name is vaishnavi\"\n",
    "print(str.islower())"
   ]
  },
  {
   "cell_type": "markdown",
   "id": "3f73ef09-a061-4aff-9f8d-67586569b60b",
   "metadata": {},
   "source": [
    "15. ### isnumeric() method"
   ]
  },
  {
   "cell_type": "code",
   "execution_count": 120,
   "id": "8ec12c55-f486-4068-ba43-ad248881a12c",
   "metadata": {},
   "outputs": [
    {
     "name": "stdout",
     "output_type": "stream",
     "text": [
      "True\n"
     ]
    }
   ],
   "source": [
    "str = \"86416846\"\n",
    "print(str.isnumeric())"
   ]
  },
  {
   "cell_type": "markdown",
   "id": "79d01644-a8b3-47b4-99c4-b6b2afe3b45b",
   "metadata": {},
   "source": [
    "16. ### isprintable() method"
   ]
  },
  {
   "cell_type": "code",
   "execution_count": 125,
   "id": "4342fc10-36f1-40de-902e-5e2a193fecdd",
   "metadata": {},
   "outputs": [
    {
     "name": "stdout",
     "output_type": "stream",
     "text": [
      "True\n"
     ]
    }
   ],
   "source": [
    "str = \"Scorpio\"\n",
    "print(str.isprintable())"
   ]
  },
  {
   "cell_type": "markdown",
   "id": "8af932d4-3d2d-4b92-aec5-0f90a4dc5960",
   "metadata": {},
   "source": [
    "17. ### isspace() method"
   ]
  },
  {
   "cell_type": "code",
   "execution_count": 128,
   "id": "653c7125-77df-4209-bc48-63b2a76cc5bc",
   "metadata": {},
   "outputs": [
    {
     "name": "stdout",
     "output_type": "stream",
     "text": [
      "True\n"
     ]
    }
   ],
   "source": [
    "str = \"     \"\n",
    "print(str.isspace())"
   ]
  },
  {
   "cell_type": "markdown",
   "id": "269aa455-c443-4e58-b7a3-78d6a3d23ac9",
   "metadata": {},
   "source": [
    "18. ### istitled() method"
   ]
  },
  {
   "cell_type": "code",
   "execution_count": 131,
   "id": "5b6560e4-32ba-40a2-8a5e-742acf561d60",
   "metadata": {},
   "outputs": [
    {
     "name": "stdout",
     "output_type": "stream",
     "text": [
      "True\n"
     ]
    }
   ],
   "source": [
    "str = \"Vaishnavi\"\n",
    "print (str.istitle())"
   ]
  },
  {
   "cell_type": "code",
   "execution_count": 133,
   "id": "82f4a5b8-e83e-488d-ae17-0b931f67eb74",
   "metadata": {},
   "outputs": [
    {
     "name": "stdout",
     "output_type": "stream",
     "text": [
      "False\n"
     ]
    }
   ],
   "source": [
    "str = \"vaishnavi\"\n",
    "print (str.istitle())"
   ]
  },
  {
   "cell_type": "markdown",
   "id": "8a60b123-347c-4b3d-8d41-f6b877d1497d",
   "metadata": {},
   "source": [
    "19. ### isupper() method"
   ]
  },
  {
   "cell_type": "code",
   "execution_count": 136,
   "id": "5d5f5a56-f312-4754-8d5b-29338fda93cc",
   "metadata": {},
   "outputs": [
    {
     "name": "stdout",
     "output_type": "stream",
     "text": [
      "True\n"
     ]
    }
   ],
   "source": [
    "str = \" ADITYA ROY KAPUR \"\n",
    "print (str.isupper())"
   ]
  },
  {
   "cell_type": "markdown",
   "id": "e9039701-3b3f-44a0-bdb0-ff187fc83995",
   "metadata": {},
   "source": [
    "20. ### join () method"
   ]
  },
  {
   "cell_type": "code",
   "execution_count": 141,
   "id": "3ef15a3b-2f12-4337-8216-5bf6412874e9",
   "metadata": {},
   "outputs": [
    {
     "name": "stdout",
     "output_type": "stream",
     "text": [
      "Kapur$$Roy$$Aditya\n"
     ]
    }
   ],
   "source": [
    "str = {\"Aditya\",  \"Roy\",  \"Kapur\" }\n",
    "\n",
    "sep = \"$$\"\n",
    "\n",
    "print(sep.join(str))"
   ]
  },
  {
   "cell_type": "code",
   "execution_count": 147,
   "id": "5db89bc9-55a6-42da-8467-01e9aa72ac23",
   "metadata": {},
   "outputs": [
    {
     "name": "stdout",
     "output_type": "stream",
     "text": [
      "Stanley$$Chase$$Morgan$$J\n"
     ]
    }
   ],
   "source": [
    "str = {\"J\",  \"Stanley\",  \"Morgan\",  \"Chase\" }\n",
    "\n",
    "sep = \"$$\"\n",
    "\n",
    "print(sep.join(str))"
   ]
  },
  {
   "cell_type": "markdown",
   "id": "4db3d5cd-07a1-4898-9d5c-f0589d2db3ce",
   "metadata": {},
   "source": [
    "21. ### lower () method"
   ]
  },
  {
   "cell_type": "code",
   "execution_count": 150,
   "id": "a8f4941d-2012-4e72-afb8-f2bd04becb09",
   "metadata": {},
   "outputs": [
    {
     "name": "stdout",
     "output_type": "stream",
     "text": [
      " diet mountain dew\n"
     ]
    }
   ],
   "source": [
    "str = \" Diet Mountain Dew\"\n",
    "print(str.lower())"
   ]
  },
  {
   "cell_type": "markdown",
   "id": "9bc7ecec-d400-4cb3-a7a9-214e24ee44b4",
   "metadata": {},
   "source": [
    "22. ### lstrip() method"
   ]
  },
  {
   "cell_type": "code",
   "execution_count": 174,
   "id": "acb7f0a6-4b9f-4ad0-bb4c-6d50df66b704",
   "metadata": {},
   "outputs": [
    {
     "name": "stdout",
     "output_type": "stream",
     "text": [
      "STRANGER THINGS\n"
     ]
    }
   ],
   "source": [
    "str = \"#######STRANGER THINGS\"\n",
    "print (str.lstrip(\"#\"))"
   ]
  },
  {
   "cell_type": "markdown",
   "id": "35df47ec-5437-494f-b2bb-94a74980f44c",
   "metadata": {},
   "source": [
    "23. ### replace() method"
   ]
  },
  {
   "cell_type": "code",
   "execution_count": 168,
   "id": "0f8f3166-b229-4bd8-a4b6-b0d9c9aac506",
   "metadata": {},
   "outputs": [
    {
     "name": "stdout",
     "output_type": "stream",
     "text": [
      "This is an demo.\n"
     ]
    }
   ],
   "source": [
    "#example1\n",
    "str = \"This is an example.\"\n",
    "print (str.replace(\"example\",\"demo\"))"
   ]
  },
  {
   "cell_type": "code",
   "execution_count": 170,
   "id": "d05cc804-8ced-4d49-ac63-162e6eea46e6",
   "metadata": {},
   "outputs": [
    {
     "name": "stdout",
     "output_type": "stream",
     "text": [
      "This is text. This is another text.\n"
     ]
    }
   ],
   "source": [
    "#example2\n",
    "str = \"This is demo. This is another demo.\"\n",
    "print (str.replace(\"demo\",\"text\",2))"
   ]
  },
  {
   "cell_type": "markdown",
   "id": "4b4eb89b-91b9-4cd9-96f3-d906812a7f0a",
   "metadata": {},
   "source": [
    "24. ### rfind() method"
   ]
  },
  {
   "cell_type": "code",
   "execution_count": 183,
   "id": "84bf0ee5-4a73-4874-82a9-19f9b1eb65f5",
   "metadata": {},
   "outputs": [
    {
     "name": "stdout",
     "output_type": "stream",
     "text": [
      "29\n"
     ]
    }
   ],
   "source": [
    "str = \"this is demo.This is another demo.\"\n",
    "print(str.rfind(\"demo\"))"
   ]
  },
  {
   "cell_type": "code",
   "execution_count": 190,
   "id": "430aae9e-929c-4b2f-b9b3-bf6325111b1e",
   "metadata": {},
   "outputs": [
    {
     "name": "stdout",
     "output_type": "stream",
     "text": [
      "47\n"
     ]
    }
   ],
   "source": [
    "str2 = \"This is demo. This is anotherdemo. Yet another demo.\"\n",
    "print (str2.rfind(\"demo\"))"
   ]
  },
  {
   "cell_type": "markdown",
   "id": "db4a7d8f-ea54-4661-8c92-41cec6363116",
   "metadata": {},
   "source": [
    "25. ### rindex() method"
   ]
  },
  {
   "cell_type": "code",
   "execution_count": 5,
   "id": "80925f06-832e-4b1d-952d-38576b2adfb7",
   "metadata": {},
   "outputs": [
    {
     "name": "stdout",
     "output_type": "stream",
     "text": [
      "30\n"
     ]
    }
   ],
   "source": [
    "str = \"This is test. This is another test.\"\n",
    "print(str.rindex('test'))"
   ]
  },
  {
   "cell_type": "markdown",
   "id": "4ddee6e0-ceca-48dc-bf4c-88f2fe7b2332",
   "metadata": {},
   "source": [
    "26. ### rjust() method"
   ]
  },
  {
   "cell_type": "code",
   "execution_count": 13,
   "id": "378d4a45-8bd8-4ac4-a36d-fa8445bd1c4f",
   "metadata": {},
   "outputs": [
    {
     "name": "stdout",
     "output_type": "stream",
     "text": [
      "AAAAAAAAAAmerican Express\n"
     ]
    }
   ],
   "source": [
    "str = \"American Express\"\n",
    "print (str.rjust(25,'A'))"
   ]
  },
  {
   "cell_type": "markdown",
   "id": "62e4a8d5-e6bb-42e9-a811-09203fdcbba7",
   "metadata": {},
   "source": [
    "27. ### rsplit () method"
   ]
  },
  {
   "cell_type": "code",
   "execution_count": 16,
   "id": "66dfa501-301c-4d44-be4b-2cffa6524220",
   "metadata": {},
   "outputs": [
    {
     "name": "stdout",
     "output_type": "stream",
     "text": [
      "['Football, Archery, Cricket, Squash', ' Hockey', ' Volleyball']\n"
     ]
    }
   ],
   "source": [
    "str = \"Football, Archery, Cricket, Squash, Hockey, Volleyball\"\n",
    "print(str.rsplit(',',2))"
   ]
  },
  {
   "cell_type": "markdown",
   "id": "0c4e6102-e3fc-4fc6-b192-841ba57171f8",
   "metadata": {},
   "source": [
    "28. ### rstrip () method"
   ]
  },
  {
   "cell_type": "code",
   "execution_count": 19,
   "id": "c5f3ff5b-6108-4897-ac38-0668c629b800",
   "metadata": {},
   "outputs": [
    {
     "name": "stdout",
     "output_type": "stream",
     "text": [
      "STRANGER THINGS\n"
     ]
    }
   ],
   "source": [
    "str = \"STRANGER THINGS####\"\n",
    "print (str.rstrip('#'))"
   ]
  },
  {
   "cell_type": "markdown",
   "id": "e3f44c54-1d6e-4d70-a88b-d202817981ce",
   "metadata": {},
   "source": [
    "29. ### split () method"
   ]
  },
  {
   "cell_type": "code",
   "execution_count": 26,
   "id": "13ef9118-4059-4f14-b857-031154f8b86a",
   "metadata": {},
   "outputs": [
    {
     "name": "stdout",
     "output_type": "stream",
     "text": [
      "['One', 'Tow', 'Three', 'Four']\n"
     ]
    }
   ],
   "source": [
    "str = \"One$$Tow$$Three$$Four\"\n",
    "print (str.split('$$',3))"
   ]
  },
  {
   "cell_type": "markdown",
   "id": "aad7e484-82cf-43b5-b98d-c4a25b407ede",
   "metadata": {},
   "source": [
    "30. ### splitlines() method"
   ]
  },
  {
   "cell_type": "code",
   "execution_count": 37,
   "id": "d06cc9f0-86fa-4c29-8675-296f5f71b0c7",
   "metadata": {},
   "outputs": [
    {
     "name": "stdout",
     "output_type": "stream",
     "text": [
      "['one\\n', 'Two\\n', 'Three\\n', 'Four']\n"
     ]
    }
   ],
   "source": [
    "str = \"one\\nTwo\\nThree\\nFour\"\n",
    "print (str.splitlines(True))"
   ]
  },
  {
   "cell_type": "code",
   "execution_count": 39,
   "id": "e3b9930f-74c8-4e81-a2e8-4fb482fd7cc6",
   "metadata": {},
   "outputs": [
    {
     "name": "stdout",
     "output_type": "stream",
     "text": [
      "['one', 'Two', 'Three', 'Four']\n"
     ]
    }
   ],
   "source": [
    "str = \"one\\nTwo\\nThree\\nFour\"\n",
    "print (str.splitlines(False))"
   ]
  },
  {
   "cell_type": "markdown",
   "id": "1397188e-58d8-4045-8639-908713f46214",
   "metadata": {},
   "source": [
    "31. ### startswith () method"
   ]
  },
  {
   "cell_type": "code",
   "execution_count": 45,
   "id": "1d8b4c9b-37c0-4fa3-b9a9-ba7ec6ba524c",
   "metadata": {},
   "outputs": [
    {
     "name": "stdout",
     "output_type": "stream",
     "text": [
      "False\n"
     ]
    }
   ],
   "source": [
    "str= \"Stree2 releases in theatres. Stree2 opening is of 2crores.\"\n",
    "print (str.startswith('op',30,50))"
   ]
  },
  {
   "cell_type": "code",
   "execution_count": 69,
   "id": "31647cbd-af11-406f-8606-9da928e2d6be",
   "metadata": {},
   "outputs": [
    {
     "name": "stdout",
     "output_type": "stream",
     "text": [
      "False\n"
     ]
    }
   ],
   "source": [
    "str2= \"Stree2 releases in theatres. Stree2 opening is of 2crores.\"\n",
    "print (str2.startswith(\"St\",30,40))"
   ]
  },
  {
   "cell_type": "markdown",
   "id": "133d3bca-b9b8-44d4-86f3-8d661689aefa",
   "metadata": {},
   "source": [
    "32. ### swapcase () method"
   ]
  },
  {
   "cell_type": "code",
   "execution_count": 74,
   "id": "583b234e-05a4-4b9e-81e3-ca0a3dc012dc",
   "metadata": {},
   "outputs": [
    {
     "name": "stdout",
     "output_type": "stream",
     "text": [
      "tHIS IS DEMO. tHIS IS ANOTHER DEMO.\n"
     ]
    }
   ],
   "source": [
    "str= \"This is demo. This is another demo.\"\n",
    "print(str.swapcase())"
   ]
  },
  {
   "cell_type": "markdown",
   "id": "219c3ef4-b52d-4c0b-b105-6284ef293369",
   "metadata": {},
   "source": [
    "33. ### title () method"
   ]
  },
  {
   "cell_type": "code",
   "execution_count": 78,
   "id": "3ee8e618-b6b9-4f72-b586-fd2a964e66b2",
   "metadata": {},
   "outputs": [
    {
     "name": "stdout",
     "output_type": "stream",
     "text": [
      "My Name Is Vaishnavi\n"
     ]
    }
   ],
   "source": [
    "str= \"my name is vaishnavi\"\n",
    "print(str.title())"
   ]
  },
  {
   "cell_type": "markdown",
   "id": "896d1bc1-329c-4d5f-aa2a-8e1f2bc478ed",
   "metadata": {},
   "source": [
    "34. ### upper () method"
   ]
  },
  {
   "cell_type": "code",
   "execution_count": 83,
   "id": "e9fabf9d-339a-4898-b0b0-17ac916ad1e6",
   "metadata": {},
   "outputs": [
    {
     "name": "stdout",
     "output_type": "stream",
     "text": [
      "THE WALKING DEAD\n"
     ]
    }
   ],
   "source": [
    "str = \"The Walking Dead\"\n",
    "print(str.upper())"
   ]
  },
  {
   "cell_type": "markdown",
   "id": "1f6e698c-a44a-409c-817c-8c97e3ddffbd",
   "metadata": {},
   "source": [
    "35. ### zfill () method"
   ]
  },
  {
   "cell_type": "code",
   "execution_count": 92,
   "id": "2bb0273e-a7fc-41e4-a557-2c4527ea3e68",
   "metadata": {},
   "outputs": [
    {
     "name": "stdout",
     "output_type": "stream",
     "text": [
      "000000Wow!\n"
     ]
    }
   ],
   "source": [
    "#example1\n",
    "str =\"Wow!\"\n",
    "print (str.zfill(10))"
   ]
  },
  {
   "cell_type": "code",
   "execution_count": 94,
   "id": "5472c74a-29f0-4266-a617-ba0d9ab18d81",
   "metadata": {},
   "outputs": [
    {
     "name": "stdout",
     "output_type": "stream",
     "text": [
      "00000000155.898\n"
     ]
    }
   ],
   "source": [
    "#example2\n",
    "str =\"155.898\"\n",
    "print (str.zfill(15))"
   ]
  },
  {
   "cell_type": "markdown",
   "id": "f99d79f2-441b-4e36-8628-0330a530fb5a",
   "metadata": {},
   "source": [
    "36. ### strip ()method"
   ]
  },
  {
   "cell_type": "code",
   "execution_count": 98,
   "id": "d8070db0-e9ed-400b-baba-8c103434347c",
   "metadata": {},
   "outputs": [
    {
     "name": "stdout",
     "output_type": "stream",
     "text": [
      "10.50\n"
     ]
    }
   ],
   "source": [
    "str = \"    10.50   \"\n",
    "print (str.strip())"
   ]
  },
  {
   "cell_type": "code",
   "execution_count": null,
   "id": "16fe0868-657e-4724-b615-3739c199a55d",
   "metadata": {},
   "outputs": [],
   "source": []
  }
 ],
 "metadata": {
  "kernelspec": {
   "display_name": "Python 3 (ipykernel)",
   "language": "python",
   "name": "python3"
  },
  "language_info": {
   "codemirror_mode": {
    "name": "ipython",
    "version": 3
   },
   "file_extension": ".py",
   "mimetype": "text/x-python",
   "name": "python",
   "nbconvert_exporter": "python",
   "pygments_lexer": "ipython3",
   "version": "3.12.4"
  }
 },
 "nbformat": 4,
 "nbformat_minor": 5
}
